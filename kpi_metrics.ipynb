{
 "cells": [
  {
   "cell_type": "code",
   "execution_count": 10,
   "metadata": {},
   "outputs": [],
   "source": [
    "\n",
    "import pandas as pd\n",
    "import numpy as np\n",
    "pd.set_option('max_columns', 50, 'max_rows', 50)"
   ]
  },
  {
   "cell_type": "code",
   "execution_count": 11,
   "metadata": {
    "scrolled": true
   },
   "outputs": [
    {
     "data": {
      "text/html": [
       "<div>\n",
       "<style scoped>\n",
       "    .dataframe tbody tr th:only-of-type {\n",
       "        vertical-align: middle;\n",
       "    }\n",
       "\n",
       "    .dataframe tbody tr th {\n",
       "        vertical-align: top;\n",
       "    }\n",
       "\n",
       "    .dataframe thead th {\n",
       "        text-align: right;\n",
       "    }\n",
       "</style>\n",
       "<table border=\"1\" class=\"dataframe\">\n",
       "  <thead>\n",
       "    <tr style=\"text-align: right;\">\n",
       "      <th></th>\n",
       "      <th>RowID</th>\n",
       "      <th>OrderID</th>\n",
       "      <th>OrderDate</th>\n",
       "      <th>ShipDate</th>\n",
       "      <th>ShipMode</th>\n",
       "      <th>CustomerID</th>\n",
       "      <th>CustomerName</th>\n",
       "      <th>Segment</th>\n",
       "      <th>Country</th>\n",
       "      <th>City</th>\n",
       "      <th>State</th>\n",
       "      <th>PostalCode</th>\n",
       "      <th>Region</th>\n",
       "      <th>ProductID</th>\n",
       "      <th>Category</th>\n",
       "      <th>Sub-Category</th>\n",
       "      <th>ProductName</th>\n",
       "      <th>Sales</th>\n",
       "      <th>Quantity</th>\n",
       "      <th>Discount</th>\n",
       "      <th>Profit</th>\n",
       "      <th>Cost_Price</th>\n",
       "    </tr>\n",
       "  </thead>\n",
       "  <tbody>\n",
       "    <tr>\n",
       "      <th>0</th>\n",
       "      <td>1</td>\n",
       "      <td>CA-2016-152156</td>\n",
       "      <td>2016-11-08</td>\n",
       "      <td>2016-11-11</td>\n",
       "      <td>Second Class</td>\n",
       "      <td>CG-12520</td>\n",
       "      <td>Claire Gute</td>\n",
       "      <td>Consumer</td>\n",
       "      <td>United States</td>\n",
       "      <td>Henderson</td>\n",
       "      <td>Kentucky</td>\n",
       "      <td>42420</td>\n",
       "      <td>South</td>\n",
       "      <td>FUR-BO-10001798</td>\n",
       "      <td>Furniture</td>\n",
       "      <td>Bookcases</td>\n",
       "      <td>Bush Somerset Collection Bookcase</td>\n",
       "      <td>261.9600</td>\n",
       "      <td>2</td>\n",
       "      <td>0.00</td>\n",
       "      <td>41.9136</td>\n",
       "      <td>65.49000</td>\n",
       "    </tr>\n",
       "    <tr>\n",
       "      <th>1</th>\n",
       "      <td>2</td>\n",
       "      <td>CA-2016-152156</td>\n",
       "      <td>2016-11-08</td>\n",
       "      <td>2016-11-11</td>\n",
       "      <td>Second Class</td>\n",
       "      <td>CG-12520</td>\n",
       "      <td>Claire Gute</td>\n",
       "      <td>Consumer</td>\n",
       "      <td>United States</td>\n",
       "      <td>Henderson</td>\n",
       "      <td>Kentucky</td>\n",
       "      <td>42420</td>\n",
       "      <td>South</td>\n",
       "      <td>FUR-CH-10000454</td>\n",
       "      <td>Furniture</td>\n",
       "      <td>Chairs</td>\n",
       "      <td>Hon Deluxe Fabric Upholstered Stacking Chairs,...</td>\n",
       "      <td>731.9400</td>\n",
       "      <td>3</td>\n",
       "      <td>0.00</td>\n",
       "      <td>219.5820</td>\n",
       "      <td>121.99000</td>\n",
       "    </tr>\n",
       "    <tr>\n",
       "      <th>2</th>\n",
       "      <td>3</td>\n",
       "      <td>CA-2016-138688</td>\n",
       "      <td>2016-06-12</td>\n",
       "      <td>2016-06-16</td>\n",
       "      <td>Second Class</td>\n",
       "      <td>DV-13045</td>\n",
       "      <td>Darrin Van Huff</td>\n",
       "      <td>Corporate</td>\n",
       "      <td>United States</td>\n",
       "      <td>Los Angeles</td>\n",
       "      <td>California</td>\n",
       "      <td>90036</td>\n",
       "      <td>West</td>\n",
       "      <td>OFF-LA-10000240</td>\n",
       "      <td>Office Supplies</td>\n",
       "      <td>Labels</td>\n",
       "      <td>Self-Adhesive Address Labels for Typewriters b...</td>\n",
       "      <td>14.6200</td>\n",
       "      <td>2</td>\n",
       "      <td>0.00</td>\n",
       "      <td>6.8714</td>\n",
       "      <td>3.65500</td>\n",
       "    </tr>\n",
       "    <tr>\n",
       "      <th>3</th>\n",
       "      <td>4</td>\n",
       "      <td>US-2015-108966</td>\n",
       "      <td>2015-10-11</td>\n",
       "      <td>2015-10-18</td>\n",
       "      <td>Standard Class</td>\n",
       "      <td>SO-20335</td>\n",
       "      <td>Sean O'Donnell</td>\n",
       "      <td>Consumer</td>\n",
       "      <td>United States</td>\n",
       "      <td>Fort Lauderdale</td>\n",
       "      <td>Florida</td>\n",
       "      <td>33311</td>\n",
       "      <td>South</td>\n",
       "      <td>FUR-TA-10000577</td>\n",
       "      <td>Furniture</td>\n",
       "      <td>Tables</td>\n",
       "      <td>Bretford CR4500 Series Slim Rectangular Table</td>\n",
       "      <td>957.5775</td>\n",
       "      <td>5</td>\n",
       "      <td>0.45</td>\n",
       "      <td>-383.0310</td>\n",
       "      <td>95.75775</td>\n",
       "    </tr>\n",
       "    <tr>\n",
       "      <th>4</th>\n",
       "      <td>5</td>\n",
       "      <td>US-2015-108966</td>\n",
       "      <td>2015-10-11</td>\n",
       "      <td>2015-10-18</td>\n",
       "      <td>Standard Class</td>\n",
       "      <td>SO-20335</td>\n",
       "      <td>Sean O'Donnell</td>\n",
       "      <td>Consumer</td>\n",
       "      <td>United States</td>\n",
       "      <td>Fort Lauderdale</td>\n",
       "      <td>Florida</td>\n",
       "      <td>33311</td>\n",
       "      <td>South</td>\n",
       "      <td>OFF-ST-10000760</td>\n",
       "      <td>Office Supplies</td>\n",
       "      <td>Storage</td>\n",
       "      <td>Eldon Fold 'N Roll Cart System</td>\n",
       "      <td>22.3680</td>\n",
       "      <td>2</td>\n",
       "      <td>0.20</td>\n",
       "      <td>2.5164</td>\n",
       "      <td>5.59200</td>\n",
       "    </tr>\n",
       "  </tbody>\n",
       "</table>\n",
       "</div>"
      ],
      "text/plain": [
       "   RowID         OrderID   OrderDate    ShipDate        ShipMode CustomerID  \\\n",
       "0      1  CA-2016-152156  2016-11-08  2016-11-11    Second Class   CG-12520   \n",
       "1      2  CA-2016-152156  2016-11-08  2016-11-11    Second Class   CG-12520   \n",
       "2      3  CA-2016-138688  2016-06-12  2016-06-16    Second Class   DV-13045   \n",
       "3      4  US-2015-108966  2015-10-11  2015-10-18  Standard Class   SO-20335   \n",
       "4      5  US-2015-108966  2015-10-11  2015-10-18  Standard Class   SO-20335   \n",
       "\n",
       "      CustomerName    Segment        Country             City       State  \\\n",
       "0      Claire Gute   Consumer  United States        Henderson    Kentucky   \n",
       "1      Claire Gute   Consumer  United States        Henderson    Kentucky   \n",
       "2  Darrin Van Huff  Corporate  United States      Los Angeles  California   \n",
       "3   Sean O'Donnell   Consumer  United States  Fort Lauderdale     Florida   \n",
       "4   Sean O'Donnell   Consumer  United States  Fort Lauderdale     Florida   \n",
       "\n",
       "   PostalCode Region        ProductID         Category Sub-Category  \\\n",
       "0       42420  South  FUR-BO-10001798        Furniture    Bookcases   \n",
       "1       42420  South  FUR-CH-10000454        Furniture       Chairs   \n",
       "2       90036   West  OFF-LA-10000240  Office Supplies       Labels   \n",
       "3       33311  South  FUR-TA-10000577        Furniture       Tables   \n",
       "4       33311  South  OFF-ST-10000760  Office Supplies      Storage   \n",
       "\n",
       "                                         ProductName     Sales  Quantity  \\\n",
       "0                  Bush Somerset Collection Bookcase  261.9600         2   \n",
       "1  Hon Deluxe Fabric Upholstered Stacking Chairs,...  731.9400         3   \n",
       "2  Self-Adhesive Address Labels for Typewriters b...   14.6200         2   \n",
       "3      Bretford CR4500 Series Slim Rectangular Table  957.5775         5   \n",
       "4                     Eldon Fold 'N Roll Cart System   22.3680         2   \n",
       "\n",
       "   Discount    Profit  Cost_Price  \n",
       "0      0.00   41.9136    65.49000  \n",
       "1      0.00  219.5820   121.99000  \n",
       "2      0.00    6.8714     3.65500  \n",
       "3      0.45 -383.0310    95.75775  \n",
       "4      0.20    2.5164     5.59200  "
      ]
     },
     "execution_count": 11,
     "metadata": {},
     "output_type": "execute_result"
    }
   ],
   "source": [
    "data = pd.read_csv(\"datasets/store.csv\")\n",
    "data.head()"
   ]
  },
  {
   "cell_type": "code",
   "execution_count": 12,
   "metadata": {},
   "outputs": [
    {
     "data": {
      "text/plain": [
       "Index(['RowID', 'OrderID', 'OrderDate', 'ShipDate', 'ShipMode', 'CustomerID',\n",
       "       'CustomerName', 'Segment', 'Country', 'City', 'State', 'PostalCode',\n",
       "       'Region', 'ProductID', 'Category', 'Sub-Category', 'ProductName',\n",
       "       'Sales', 'Quantity', 'Discount', 'Profit', 'Cost_Price'],\n",
       "      dtype='object')"
      ]
     },
     "execution_count": 12,
     "metadata": {},
     "output_type": "execute_result"
    }
   ],
   "source": [
    "data.columns"
   ]
  },
  {
   "cell_type": "code",
   "execution_count": 13,
   "metadata": {},
   "outputs": [
    {
     "name": "stdout",
     "output_type": "stream",
     "text": [
      "<class 'pandas.core.frame.DataFrame'>\n",
      "RangeIndex: 9994 entries, 0 to 9993\n",
      "Data columns (total 22 columns):\n",
      "RowID           9994 non-null int64\n",
      "OrderID         9994 non-null object\n",
      "OrderDate       9994 non-null object\n",
      "ShipDate        9994 non-null object\n",
      "ShipMode        9994 non-null object\n",
      "CustomerID      9994 non-null object\n",
      "CustomerName    9994 non-null object\n",
      "Segment         9994 non-null object\n",
      "Country         9994 non-null object\n",
      "City            9994 non-null object\n",
      "State           9994 non-null object\n",
      "PostalCode      9994 non-null int64\n",
      "Region          9994 non-null object\n",
      "ProductID       9994 non-null object\n",
      "Category        9994 non-null object\n",
      "Sub-Category    9994 non-null object\n",
      "ProductName     9994 non-null object\n",
      "Sales           9994 non-null float64\n",
      "Quantity        9994 non-null int64\n",
      "Discount        9994 non-null float64\n",
      "Profit          9994 non-null float64\n",
      "Cost_Price      9994 non-null float64\n",
      "dtypes: float64(4), int64(3), object(15)\n",
      "memory usage: 1.7+ MB\n"
     ]
    }
   ],
   "source": [
    "data.info()"
   ]
  },
  {
   "cell_type": "code",
   "execution_count": 14,
   "metadata": {},
   "outputs": [
    {
     "name": "stdout",
     "output_type": "stream",
     "text": [
      "['United States']\n"
     ]
    }
   ],
   "source": [
    "print(data[\"Country\"].unique())"
   ]
  },
  {
   "cell_type": "code",
   "execution_count": 15,
   "metadata": {},
   "outputs": [
    {
     "name": "stdout",
     "output_type": "stream",
     "text": [
      "['Kentucky' 'California' 'Florida' 'North Carolina' 'Washington' 'Texas'\n",
      " 'Wisconsin' 'Utah' 'Nebraska' 'Pennsylvania' 'Illinois' 'Minnesota'\n",
      " 'Michigan' 'Delaware' 'Indiana' 'New York' 'Arizona' 'Virginia'\n",
      " 'Tennessee' 'Alabama' 'South Carolina' 'Oregon' 'Colorado' 'Iowa' 'Ohio'\n",
      " 'Missouri' 'Oklahoma' 'New Mexico' 'Louisiana' 'Connecticut' 'New Jersey'\n",
      " 'Massachusetts' 'Georgia' 'Nevada' 'Rhode Island' 'Mississippi'\n",
      " 'Arkansas' 'Montana' 'New Hampshire' 'Maryland' 'District of Columbia'\n",
      " 'Kansas' 'Vermont' 'Maine' 'South Dakota' 'Idaho' 'North Dakota'\n",
      " 'Wyoming' 'West Virginia']\n"
     ]
    }
   ],
   "source": [
    "print(data[\"State\"].unique())"
   ]
  },
  {
   "cell_type": "code",
   "execution_count": 16,
   "metadata": {},
   "outputs": [
    {
     "data": {
      "text/html": [
       "<div>\n",
       "<style scoped>\n",
       "    .dataframe tbody tr th:only-of-type {\n",
       "        vertical-align: middle;\n",
       "    }\n",
       "\n",
       "    .dataframe tbody tr th {\n",
       "        vertical-align: top;\n",
       "    }\n",
       "\n",
       "    .dataframe thead th {\n",
       "        text-align: right;\n",
       "    }\n",
       "</style>\n",
       "<table border=\"1\" class=\"dataframe\">\n",
       "  <thead>\n",
       "    <tr style=\"text-align: right;\">\n",
       "      <th></th>\n",
       "      <th>State</th>\n",
       "      <th>Sales</th>\n",
       "    </tr>\n",
       "  </thead>\n",
       "  <tbody>\n",
       "    <tr>\n",
       "      <th>0</th>\n",
       "      <td>Alabama</td>\n",
       "      <td>19510.6400</td>\n",
       "    </tr>\n",
       "    <tr>\n",
       "      <th>1</th>\n",
       "      <td>Arizona</td>\n",
       "      <td>35282.0010</td>\n",
       "    </tr>\n",
       "    <tr>\n",
       "      <th>2</th>\n",
       "      <td>Arkansas</td>\n",
       "      <td>11678.1300</td>\n",
       "    </tr>\n",
       "    <tr>\n",
       "      <th>3</th>\n",
       "      <td>California</td>\n",
       "      <td>457687.6315</td>\n",
       "    </tr>\n",
       "    <tr>\n",
       "      <th>4</th>\n",
       "      <td>Colorado</td>\n",
       "      <td>32108.1180</td>\n",
       "    </tr>\n",
       "  </tbody>\n",
       "</table>\n",
       "</div>"
      ],
      "text/plain": [
       "        State        Sales\n",
       "0     Alabama   19510.6400\n",
       "1     Arizona   35282.0010\n",
       "2    Arkansas   11678.1300\n",
       "3  California  457687.6315\n",
       "4    Colorado   32108.1180"
      ]
     },
     "execution_count": 16,
     "metadata": {},
     "output_type": "execute_result"
    }
   ],
   "source": [
    "#We have so many state, let us see how sales perform in each state\n",
    "state_sales = data.groupby(\"State\")['Sales'].sum().reset_index()\n",
    "state_sales.head()"
   ]
  },
  {
   "cell_type": "code",
   "execution_count": 17,
   "metadata": {},
   "outputs": [
    {
     "name": "stdout",
     "output_type": "stream",
     "text": [
      "        State        Sales\n",
      "3  California  457687.6315\n",
      "           State   Sales\n",
      "32  North Dakota  919.91\n"
     ]
    }
   ],
   "source": [
    "# let us find the state with lowest and highest sale)\n",
    "print(state_sales[state_sales.Sales == state_sales.Sales.max()])\n",
    "print(state_sales[state_sales.Sales == state_sales.Sales.min()])\n"
   ]
  },
  {
   "cell_type": "code",
   "execution_count": 18,
   "metadata": {},
   "outputs": [],
   "source": [
    "\"\"\"\n",
    "So we have the state with lowest sale is North Dakota and highest sale is California\n",
    "We're going to work with these 2 states for now and implement all our kpi metrics feature and\n",
    "discover why one state is performing low compared to another, note you can implement these \n",
    "with all the states.\n",
    "\"\"\"\n",
    "\n",
    "north_dakota= data.query(\"State=='North Dakota'\").reset_index(drop=True)\n",
    "california = data.query(\"State=='California'\").reset_index(drop=True)\n",
    "# alabama_data.head().append(wyoming_data.tail())\n"
   ]
  },
  {
   "cell_type": "code",
   "execution_count": 19,
   "metadata": {},
   "outputs": [],
   "source": [
    "#let us get to action, write functions for all our kpis"
   ]
  },
  {
   "cell_type": "code",
   "execution_count": 20,
   "metadata": {},
   "outputs": [],
   "source": [
    "def process_date(df):\n",
    "    #to avoid KeyError, reset the index\n",
    "    df = df.reset_index()\n",
    "    #convert date strings to datetime\n",
    "    df['OrderDate'] = pd.to_datetime(df['OrderDate'])\n",
    "    df = df.set_index('OrderDate').sort_index()\n",
    "    return df\n"
   ]
  },
  {
   "cell_type": "code",
   "execution_count": 21,
   "metadata": {},
   "outputs": [],
   "source": [
    "def monthly_store_revenue(df):\n",
    "    df = process_date(df)\n",
    "    monthly_revenue = df.resample('M')['Sales'].sum().reset_index()\n",
    "    #calculate monthly growth (MoM)\n",
    "    monthly_revenue = monthly_revenue.assign(MoM=lambda x:x['Sales'].pct_change())\n",
    "    return monthly_revenue\n",
    "\n",
    "def yearly_active_customers(df):\n",
    "    df = process_date(df)\n",
    "    yearly_customers = df.resample('Y')['CustomerID'].nunique().reset_index()\n",
    "    return yearly_customers\n",
    "\n",
    "def monthly_active_customers(df):\n",
    "    df = process_date(df)\n",
    "    monthly_customers = df.resample('M')['CustomerID'].nunique()\n",
    "    return monthly_customers\n"
   ]
  },
  {
   "cell_type": "code",
   "execution_count": 22,
   "metadata": {},
   "outputs": [],
   "source": [
    "#how often people buy from the store\n",
    "def monthly_order_count(df):\n",
    "    df = process_date(df)\n",
    "    monthly_order = df.resample('M')['Quantity'].sum().reset_index()\n",
    "    return monthly_order"
   ]
  },
  {
   "cell_type": "code",
   "execution_count": 23,
   "metadata": {},
   "outputs": [],
   "source": [
    "def store_conversion_rate(df):\n",
    "    # Total number of visitors over number of conversions\n",
    "    visitors = len(df[\"CustomerID\"])\n",
    "    conversions= (df['Sales'].sum()/len(df[\"CustomerID\"].unique())) * 100\n",
    "    conversion_rate = (visitors /conversions)* 100\n",
    "    return conversion_rate\n",
    "    \n",
    "    \n",
    "    \n",
    "def churn_rate(df):\n",
    "        #calcualate customer churn rate for 1 year\n",
    "        df = process_date(df)\n",
    "        clients_begin = df. first(pd.offsets.MonthBegin(3, normalize=True))\n",
    "        cb = len(clients_begin['CustomerID'].unique())\n",
    "\n",
    "        clients_end = df.first(pd.offsets.MonthEnd(3))\n",
    "        ce = len(clients_end['CustomerID'].unique())\n",
    "\n",
    "        churn_rate = (cb -ce) /cb * 100\n",
    "        return churn_rate\n",
    "    \n",
    "def monthly_average_order_value(df):\n",
    "        \"\"\"Average order value – also know as AOV – is an ecommerce metric \n",
    "        that refers to the average amount of money spent by customers per order.\n",
    "        Total Revenue ÷ Total No. of Orders = Average Order Value\"\"\"\n",
    "        \n",
    "        avg_order = process_date(df)\n",
    "        avg_order['average_order'] = avg_order['Sales']/avg_order['Quantity']\n",
    "        avg_order = avg_order.resample('M')['average_order'].sum().reset_index()\n",
    "        return avg_order\n",
    "    \n",
    "def purchase_frequency(df):\n",
    "        # PF = Total number of orders/ Total number of unique customers.\n",
    "        repeat_customers = len(df['CustomerID'].unique())\n",
    "        customer_purchase_frequency = df['Quantity'].sum()/repeat_customers\n",
    "        return customer_purchase_frequency\n",
    "    \n",
    "    \n",
    "def gross_profit_margin(df):\n",
    "        # Gross profit margin = gross profit (revenue – cost of goods sold) / revenue\n",
    "        gross_profit = df['Sales'].sum() - df['Cost_Price'].sum()\n",
    "        margin_profit = (gross_profit /df['Sales'].sum()) * 100\n",
    "        return margin_profit\n",
    "    \n",
    "\n",
    "def time_between_purchase(df):\n",
    "    purchase_freq = purchase_frequency(df)\n",
    "    time_btw_purchase = purchase_freq/(365)\n",
    "    return time_btw_purchase\n",
    "\n",
    "def repeat_purchase_rate(df):\n",
    "        # RPR = Purchase from repeat customers/Total purchases\n",
    "        repeat_customers = len(df['CustomerID'].unique())\n",
    "        customer_repeat_purchase =  repeat_customers /df['Sales'].sum()\n",
    "        return customer_repeat_purchase * 100\n",
    "    \n",
    "\n",
    "def customer_lifetime_value(data):\n",
    "        \"\"\" Calculate the customer lifetime value for 6 months\n",
    "        \n",
    "        customer_lifetime = (average_transactions * average_order_value \n",
    "                             *average_gross_margin*average_lifespan)\n",
    "                             /no_of_customers\n",
    "        \"\"\"\n",
    "\n",
    "        avg_trans = avg_transactions(data)\n",
    "        avg_order_value = avg_order(data)\n",
    "        avg_gross  = avg_gross_margin(data)\n",
    "        avg_lifespan = average_life_span(data)\n",
    "        no_of_customers = number_of_clients(data)\n",
    "\n",
    "        customer_lifetime = (avg_trans * avg_order_value *avg_gross*avg_lifespan)\\\n",
    "                            / no_of_customers \n",
    "        return customer_lifetime\n",
    "\n",
    "\n",
    "def average_life_span(df):\n",
    "        #calculate customer average lifespan\n",
    "        \n",
    "        df = churn_rate(df)\n",
    "        average_lifespan = 1/df\n",
    "        return average_lifespan\n",
    "        \n",
    "def avg_gross_margin(df):\n",
    "        #calculate average gross margin profit for the store\n",
    "        df = process_date(df)\n",
    "        average_order = df.resample('M')['Sales','Cost_Price'].sum()\n",
    "        average_order['gross_margin'] = (average_order['Sales'] - average_order['Cost_Price'])\\\n",
    "                                                                 /average_order['Sales'] *100\n",
    "        average_gross_margin = average_order['gross_margin'].sum()/len(average_order['gross_margin'])\n",
    "        return average_gross_margin             \n",
    "        \n",
    "def avg_order(df):\n",
    "        #calculate an singular average order for the store\n",
    "        average_order_value = df['Sales'].sum()/df['Quantity'].sum()\n",
    "        return average_order_value        \n",
    "        \n",
    "def number_of_clients(df):\n",
    "        #calculate the total number of customers that visit the store\n",
    "        num_of_clients = len(df['CustomerID'].unique())\n",
    "        return num_of_clients\n",
    "def avg_transactions(df):\n",
    "        #calculate store average transaction every 1 year\n",
    "        average_transactions= df['Quantity'].sum()/12\n",
    "        return average_transactions\n",
    "    "
   ]
  },
  {
   "cell_type": "code",
   "execution_count": 24,
   "metadata": {},
   "outputs": [
    {
     "name": "stdout",
     "output_type": "stream",
     "text": [
      "   OrderDate  average_order\n",
      "0 2014-01-31        728.966\n",
      "1 2014-02-28        125.030\n",
      "2 2014-03-31       1808.174\n",
      "3 2014-04-30       2063.375\n",
      "4 2014-05-31       1591.427\n",
      "   OrderDate  average_order\n",
      "0 2017-05-31         231.27\n",
      "1 2017-06-30           0.00\n",
      "2 2017-07-31           0.00\n",
      "3 2017-08-31           0.00\n",
      "4 2017-09-30           0.00\n"
     ]
    }
   ],
   "source": [
    "# 1. AVERAGE ORDER VALUE (AOV)\n",
    "California = monthly_average_order_value(california)\n",
    "North_dakota = monthly_average_order_value(north_dakota)\n",
    "print(California.head())\n",
    "print(North_dakota.head())"
   ]
  },
  {
   "cell_type": "code",
   "execution_count": 36,
   "metadata": {},
   "outputs": [
    {
     "name": "stdout",
     "output_type": "stream",
     "text": [
      "840.3260491239907\n",
      "\n",
      "\n",
      "5060.387471189002\n"
     ]
    }
   ],
   "source": [
    "# 2.CUSTOMER LIFE TIME VALUE FOR 6 MONTHS\n",
    "California = (process_date(california)).loc[:'2014-06-30']\n",
    "print(customer_lifetime_value(California))\n",
    "print(\"\\n\")\n",
    "# north_dakota = (process_date(north_dakota)).loc[:'2014-06-30']\n",
    "# print(customer_lifetime_value(north_dakota))\n",
    "store_data = (process_date(data)).loc[:'2014-06-30']\n",
    "print(customer_lifetime_value(store_data))"
   ]
  },
  {
   "cell_type": "code",
   "execution_count": 26,
   "metadata": {},
   "outputs": [
    {
     "name": "stdout",
     "output_type": "stream",
     "text": [
      "4.0\n"
     ]
    }
   ],
   "source": [
    "#3.CHURN RATE FOR 6 MONTHS\n",
    "California = (process_date(california)).loc[:'2014-06-30']\n",
    "North_dakota = (process_date(north_dakota)).loc[:'2014-06-30']\n",
    "print(churn_rate(California))\n",
    "# print(churn_rate(North_dakota))\n"
   ]
  },
  {
   "cell_type": "code",
   "execution_count": 27,
   "metadata": {},
   "outputs": [
    {
     "name": "stdout",
     "output_type": "stream",
     "text": [
      "0.12606851491900103\n",
      "0.2174125729690948\n",
      "0.03452027263721463\n"
     ]
    }
   ],
   "source": [
    "#4. CUSTOMER REPEAT PURCHASE RATE\n",
    "California = repeat_purchase_rate(california)\n",
    "North_dakota = repeat_purchase_rate(north_dakota)\n",
    "Store_data = repeat_purchase_rate(data)\n",
    "\n",
    "print(California)\n",
    "print(North_dakota)\n",
    "print(Store_data)"
   ]
  },
  {
   "cell_type": "code",
   "execution_count": 29,
   "metadata": {},
   "outputs": [
    {
     "name": "stdout",
     "output_type": "stream",
     "text": [
      "13.287694974003466\n",
      "15.0\n"
     ]
    }
   ],
   "source": [
    "#5.CUSTOMER PURCHASE FREQUENCY\n",
    "\n",
    "print(purchase_frequency(california))\n",
    "print(purchase_frequency(north_dakota))"
   ]
  },
  {
   "cell_type": "code",
   "execution_count": 30,
   "metadata": {},
   "outputs": [
    {
     "name": "stdout",
     "output_type": "stream",
     "text": [
      "   OrderDate     Sales        MoM\n",
      "0 2014-01-31  2455.185        NaN\n",
      "1 2014-02-28   308.702  -0.874265\n",
      "2 2014-03-31  7239.096  22.450110\n",
      "3 2014-04-30  8165.181   0.127928\n",
      "4 2014-05-31  5960.020  -0.270069\n",
      "   OrderDate   Sales  MoM\n",
      "0 2017-05-31  891.53  NaN\n",
      "1 2017-06-30    0.00 -1.0\n",
      "2 2017-07-31    0.00  NaN\n",
      "3 2017-08-31    0.00  NaN\n",
      "4 2017-09-30    0.00  NaN\n"
     ]
    }
   ],
   "source": [
    "#6. STORE MONTHLY REVENUE\n",
    "\n",
    "California = monthly_store_revenue(california)\n",
    "North_dakota = monthly_store_revenue(north_dakota)\n",
    "print(California.head())\n",
    "print(North_dakota.head())"
   ]
  },
  {
   "cell_type": "code",
   "execution_count": 31,
   "metadata": {},
   "outputs": [
    {
     "name": "stdout",
     "output_type": "stream",
     "text": [
      "   OrderDate  Quantity\n",
      "0 2014-01-31        30\n",
      "1 2014-02-28        21\n",
      "2 2014-03-31        78\n",
      "3 2014-04-30       145\n",
      "4 2014-05-31        99\n",
      "   OrderDate  Quantity\n",
      "0 2017-05-31        24\n",
      "1 2017-06-30         0\n",
      "2 2017-07-31         0\n",
      "3 2017-08-31         0\n",
      "4 2017-09-30         0\n"
     ]
    }
   ],
   "source": [
    "# 7.MONTHLY ORDER COUNT\n",
    "California= monthly_order_count(california)\n",
    "North_dakota = monthly_order_count(north_dakota)\n",
    "monthly_order_count(data)\n",
    "print(California.head())\n",
    "print(North_dakota.head())"
   ]
  },
  {
   "cell_type": "code",
   "execution_count": 32,
   "metadata": {},
   "outputs": [
    {
     "name": "stdout",
     "output_type": "stream",
     "text": [
      "2.522630983529211\n",
      "0.015218880107836636\n"
     ]
    }
   ],
   "source": [
    "#8.CONVERSION RATE\n",
    "print(store_conversion_rate(california))\n",
    "print(store_conversion_rate(north_dakota))"
   ]
  },
  {
   "cell_type": "code",
   "execution_count": 33,
   "metadata": {},
   "outputs": [
    {
     "name": "stdout",
     "output_type": "stream",
     "text": [
      "   OrderDate  CustomerID\n",
      "0 2014-12-31         181\n",
      "1 2015-12-31         185\n",
      "2 2016-12-31         235\n",
      "3 2017-12-31         291\n",
      "\n",
      "\n",
      "   OrderDate  CustomerID\n",
      "0 2017-12-31           2\n"
     ]
    }
   ],
   "source": [
    "#9.CALCULATE ACTIVE CUSTOMERS\n",
    "print(yearly_active_customers(california).head())\n",
    "print(\"\\n\")\n",
    "print(yearly_active_customers(north_dakota).head())"
   ]
  },
  {
   "cell_type": "code",
   "execution_count": 34,
   "metadata": {},
   "outputs": [
    {
     "name": "stdout",
     "output_type": "stream",
     "text": [
      "86.35165596411832\n",
      "21.691772686156785\n"
     ]
    }
   ],
   "source": [
    "#10.GROSS PROFIT MARGIN\n",
    "print(avg_gross_margin(california))\n",
    "print(avg_gross_margin(north_dakota))"
   ]
  },
  {
   "cell_type": "code",
   "execution_count": null,
   "metadata": {},
   "outputs": [],
   "source": []
  },
  {
   "cell_type": "code",
   "execution_count": null,
   "metadata": {},
   "outputs": [],
   "source": []
  }
 ],
 "metadata": {
  "kernelspec": {
   "display_name": "Python 3",
   "language": "python",
   "name": "python3"
  },
  "language_info": {
   "codemirror_mode": {
    "name": "ipython",
    "version": 3
   },
   "file_extension": ".py",
   "mimetype": "text/x-python",
   "name": "python",
   "nbconvert_exporter": "python",
   "pygments_lexer": "ipython3",
   "version": "3.7.3"
  }
 },
 "nbformat": 4,
 "nbformat_minor": 2
}
